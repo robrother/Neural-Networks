{
 "cells": [
  {
   "cell_type": "markdown",
   "metadata": {},
   "source": [
    "# Red Neuronal Simple\n",
    "\n",
    "En este notebook programaremos una red neuronal simple (perceptron) utilizando numpy.\n",
    "\n",
    "@juan1rving\n",
    "\n",
    "<img src=\"files/red_simple.png\">\n",
    "\n"
   ]
  },
  {
   "cell_type": "code",
   "execution_count": 1,
   "metadata": {},
   "outputs": [],
   "source": [
    "# Cargamos paquetes\n",
    "import numpy as np"
   ]
  },
  {
   "cell_type": "code",
   "execution_count": 2,
   "metadata": {},
   "outputs": [],
   "source": [
    "# Definimos la función H\n",
    "def function_h(X, W, b):\n",
    "    sum = 0\n",
    "    Mult = np.multiply(W,X)\n",
    "    for p in Mult:\n",
    "        sum = sum + p\n",
    "    sum = sum + b\n",
    "    return sum"
   ]
  },
  {
   "cell_type": "code",
   "execution_count": 3,
   "metadata": {},
   "outputs": [],
   "source": [
    "# Definimos la función de activación. \n",
    "# En este ejemplo utilizaremos la función sigmoide.\n",
    "def sigmoid(x):\n",
    "    sg = 1/(1+np.exp(-x))\n",
    "    return sg"
   ]
  },
  {
   "cell_type": "markdown",
   "metadata": {},
   "source": [
    "## Probar la red\n",
    "\n",
    "Ahora definamos unos pesos y veamos el resultado de una pasada frontal (fordward pass)."
   ]
  },
  {
   "cell_type": "code",
   "execution_count": 9,
   "metadata": {},
   "outputs": [
    {
     "name": "stdout",
     "output_type": "stream",
     "text": [
      "Output:\n",
      "0.4329070950345457\n"
     ]
    }
   ],
   "source": [
    "# Definamos unos pesos y sesgo\n",
    "inputs = np.array([0.7, -0.3])\n",
    "weights = np.array([0.1, 0.8])\n",
    "bias = -0.1\n",
    "\n",
    "# Pasada frontal\n",
    "h = function_h(inputs,weights,bias)\n",
    "output = sigmoid(h)\n",
    "\n",
    "print('Output:')\n",
    "print(output)\n"
   ]
  },
  {
   "cell_type": "markdown",
   "metadata": {},
   "source": [
    "## Ejercicio\n",
    "\n",
    "Define una función de activación de tipo escalón \"heaviside\" y encuentra manualmente los pesos que definen la función OR."
   ]
  },
  {
   "cell_type": "code",
   "execution_count": 5,
   "metadata": {},
   "outputs": [],
   "source": [
    "#TODO: Completar el código\n",
    "def escalon(x):\n",
    "    if x < 0:\n",
    "        sal = 0\n",
    "    elif x>= 0:\n",
    "        sal = 1\n",
    "    return sal"
   ]
  },
  {
   "cell_type": "code",
   "execution_count": 32,
   "metadata": {},
   "outputs": [
    {
     "name": "stdout",
     "output_type": "stream",
     "text": [
      "Para la combinacion  [0 0]\n",
      "la funcion h nos da:  -0.1\n",
      "La salida de la funcion de activacion es: 0\n",
      "-----------------\n",
      "Para la combinacion  [0 1]\n",
      "la funcion h nos da:  0.7000000000000001\n",
      "La salida de la funcion de activacion es: 1\n",
      "-----------------\n",
      "Para la combinacion  [1 0]\n",
      "la funcion h nos da:  0.0\n",
      "La salida de la funcion de activacion es: 1\n",
      "-----------------\n",
      "Para la combinacion  [1 1]\n",
      "la funcion h nos da:  0.8\n",
      "La salida de la funcion de activacion es: 1\n",
      "-----------------\n"
     ]
    }
   ],
   "source": [
    "# TODO: Realizada la pasada frontal y muesta los resultados\n",
    "\n",
    "# Definamos unos pesos y sesgo\n",
    "inputs = np.array([[0, 0],[0, 1],[1, 0],[1, 1]])\n",
    "\n",
    "for x in range(0,4):  \n",
    "    weights = np.array([0.1, 0.8])\n",
    "    bias = -0.1\n",
    "    elemento= inputs[x]\n",
    "    h = function_h(elemento,weights,bias)\n",
    "    print(\"Para la combinacion \",inputs[x])\n",
    "    print(\"la funcion h nos da: \",h)\n",
    "    output2 = escalon(h)\n",
    "    print('La salida de la funcion de activacion es:', output2)\n",
    "    print('-----------------')\n"
   ]
  },
  {
   "cell_type": "code",
   "execution_count": null,
   "metadata": {},
   "outputs": [],
   "source": []
  },
  {
   "cell_type": "code",
   "execution_count": null,
   "metadata": {},
   "outputs": [],
   "source": []
  }
 ],
 "metadata": {
  "kernelspec": {
   "display_name": "Python 3",
   "language": "python",
   "name": "python3"
  },
  "language_info": {
   "codemirror_mode": {
    "name": "ipython",
    "version": 3
   },
   "file_extension": ".py",
   "mimetype": "text/x-python",
   "name": "python",
   "nbconvert_exporter": "python",
   "pygments_lexer": "ipython3",
   "version": "3.6.6"
  },
  "widgets": {
   "state": {},
   "version": "1.1.2"
  }
 },
 "nbformat": 4,
 "nbformat_minor": 2
}
