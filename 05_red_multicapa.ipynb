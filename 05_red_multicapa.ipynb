{
 "cells": [
  {
   "cell_type": "markdown",
   "metadata": {},
   "source": [
    "# Red neuronal multicapa\n",
    "\n",
    "Una red neuronal multicapa tiene capas ocultas entre la entrada y la salida.\n",
    "\n",
    "En este ejercicio crearemos una red neuronal multicapa. Algunos autores también le llaman perceptron multicapa.\n",
    "\n"
   ]
  },
  {
   "cell_type": "code",
   "execution_count": 1,
   "metadata": {},
   "outputs": [],
   "source": [
    "# Importamos paquetes\n",
    "import numpy as np"
   ]
  },
  {
   "cell_type": "code",
   "execution_count": 2,
   "metadata": {},
   "outputs": [],
   "source": [
    "# Funciones necesarias\n",
    "def sigmoid(x):\n",
    "    \"\"\"\n",
    "    Función sigmoide\n",
    "    \"\"\"\n",
    "    return 1/(1+np.exp(-x))"
   ]
  },
  {
   "cell_type": "markdown",
   "metadata": {},
   "source": [
    "Definamos la arquitectura de la red\n",
    "\n",
    "<img src=\"files/test1.png\">"
   ]
  },
  {
   "cell_type": "code",
   "execution_count": 3,
   "metadata": {},
   "outputs": [],
   "source": [
    "# Network size\n",
    "N_input = 4\n",
    "N_hidden = 3\n",
    "N_output = 2\n"
   ]
  },
  {
   "cell_type": "code",
   "execution_count": 4,
   "metadata": {},
   "outputs": [],
   "source": [
    "np.random.seed(42)\n",
    "# Make some fake data\n",
    "X = np.random.randn(4)\n",
    "\n",
    "weights_input_to_hidden = np.random.normal(0, scale=0.1, size=(N_input, N_hidden))\n",
    "weights_hidden_to_output = np.random.normal(0, scale=0.1, size=(N_hidden, N_output))"
   ]
  },
  {
   "cell_type": "code",
   "execution_count": 5,
   "metadata": {},
   "outputs": [
    {
     "name": "stdout",
     "output_type": "stream",
     "text": [
      "Hidden-layer Output:\n",
      "[0.41492192287919555, 0.4260431278994376, 0.5002434041266636]\n",
      "Output-layer Output:\n",
      "[0.4981519553173773, 0.4853977214813219]\n"
     ]
    }
   ],
   "source": [
    "# TODO: Make a forward pass through the network\n",
    "\n",
    "#------------------HIDDEN LAYER------------------------------------------------------------------------------\n",
    "#Calculamos hj = wij * xi + b\n",
    "hidden_layer_in = np.dot(X, weights_input_to_hidden)\n",
    "#calculamos la salida aj = sigmoid (hj) \n",
    "hidden_layer_out = [sigmoid(hidden_layer_in[0]), sigmoid(hidden_layer_in[1]), sigmoid(hidden_layer_in[2])]\n",
    "#Imprimimos los resultados\n",
    "print('Hidden-layer Output:')\n",
    "print(hidden_layer_out)\n",
    "\n",
    "#------------------OUTPUT LAYER------------------------------------------------------------------------------\n",
    "#Calculamos hK = wjk * aj + b\n",
    "output_layer_in = np.dot(hidden_layer_out, weights_hidden_to_output)\n",
    "#output = sigmoid(Sum (wj k * aj + b)) = sigmoid (hk)\n",
    "output_layer_out = [sigmoid(output_layer_in[0]), sigmoid(output_layer_in[1])]\n",
    "#Imprimimos los resultados\n",
    "print('Output-layer Output:')\n",
    "print(output_layer_out)\n"
   ]
  },
  {
   "cell_type": "code",
   "execution_count": null,
   "metadata": {},
   "outputs": [],
   "source": []
  }
 ],
 "metadata": {
  "kernelspec": {
   "display_name": "Python 3",
   "language": "python",
   "name": "python3"
  },
  "language_info": {
   "codemirror_mode": {
    "name": "ipython",
    "version": 3
   },
   "file_extension": ".py",
   "mimetype": "text/x-python",
   "name": "python",
   "nbconvert_exporter": "python",
   "pygments_lexer": "ipython3",
   "version": "3.6.6"
  },
  "widgets": {
   "state": {},
   "version": "1.1.2"
  }
 },
 "nbformat": 4,
 "nbformat_minor": 2
}
